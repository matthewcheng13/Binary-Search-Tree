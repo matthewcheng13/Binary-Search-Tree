{
 "cells": [
  {
   "cell_type": "code",
   "execution_count": 310,
   "metadata": {},
   "outputs": [],
   "source": [
    "class Binary_Search_Tree:\n",
    "  # TODO.I have provided the public method skeletons. You will need\n",
    "  # to add private methods to support the recursive algorithms\n",
    "  # discussed in class\n",
    "\n",
    "    class __BST_Node:\n",
    "    # TODO The Node class is private. You may add any attributes and\n",
    "    # methods you need. Recall that attributes in an inner class \n",
    "    # must be public to be reachable from the the methods.\n",
    "\n",
    "        def __init__(self, value):\n",
    "            self.value = value\n",
    "            # TODO complete Node initialization\n",
    "            self.height = 1\n",
    "            self.left_child = None\n",
    "            self.right_child = None\n",
    "\n",
    "    def __init__(self):\n",
    "        self.__root = None\n",
    "        # TODO complete initialization\n",
    "        self.__height = 0\n",
    "\n",
    "    def __rins(self,value,node):\n",
    "        if node == None:\n",
    "            new_node = Binary_Search_Tree.__BST_Node(value)\n",
    "            return new_node\n",
    "        else:\n",
    "            if node.value == value:\n",
    "                raise ValueError\n",
    "            elif node.value > value:\n",
    "                node.left_child = self.__rins(value,node.left_child)\n",
    "                node.height = self.__set_height(node)\n",
    "            else:\n",
    "                node.right_child = self.__rins(value,node.right_child)\n",
    "                node.height = self.__set_height(node)\n",
    "            return node\n",
    "    \n",
    "#    def __set_height(self,node):\n",
    "#        if (node.left_child == None) and (node.right_child == None):\n",
    "#            return 1\n",
    "#        elif node.left_child == None:\n",
    "#            return node.right_child.height + 1\n",
    "#        elif node.right_child == None:\n",
    "#            return node.left_child.height + 1\n",
    "#        else:\n",
    "#            if node.left_child.height > node.right_child.height:\n",
    "#                return node.left_child.height + 1\n",
    "#            else:\n",
    "#                return node.right_child.height + 1\n",
    "\n",
    "    def __set_height(self,node):\n",
    "        try:\n",
    "            left = node.left_child.height\n",
    "        except AttributeError:\n",
    "            left = 0\n",
    "        try:\n",
    "            right = node.right_child.height\n",
    "        except AttributeError:\n",
    "            right = 0\n",
    "        if left > right:\n",
    "            return left + 1\n",
    "        else:\n",
    "            return right + 1\n",
    "            \n",
    "    def insert_element(self, value):\n",
    "    # Insert the value specified into the tree at the correct\n",
    "    # location based on \"less is left; greater is right\" binary\n",
    "    # search tree ordering. If the value is already contained in\n",
    "    # the tree, raise a ValueError. Your solution must be recursive.\n",
    "    # This will involve the introduction of additional private\n",
    "    # methods to support the recursion control variable.\n",
    "    # TODO replace pass with your implementation\n",
    "        self.__root = self.__rins(value,self.__root)\n",
    "        self.__height = self.__root.height\n",
    "\n",
    "    def __rrem(self,value,node):\n",
    "        if node == None:\n",
    "            raise ValueError\n",
    "        if node.value == value:\n",
    "            if (node.left_child == None) and (node.right_child == None):\n",
    "                return None\n",
    "            elif node.left_child == None:\n",
    "                return node.right_child\n",
    "            elif node.right_child == None:\n",
    "                return node.left_child\n",
    "            else:\n",
    "                cur = node.right_child\n",
    "                while cur.left_child != None:\n",
    "                    cur = cur.left_child\n",
    "                node.value = cur.value\n",
    "                node.right_child = self.__rrem(cur.value,node.right_child)\n",
    "                return node\n",
    "        elif node.value > value:\n",
    "            node.left_child = self.__rrem(value,node.left_child)\n",
    "            node.height = self.__set_height(node)\n",
    "        else:\n",
    "            node.right_child = self.__rrem(value,node.right_child)\n",
    "            node.height = self.__set_height(node)\n",
    "        return node\n",
    "\n",
    "\n",
    "    def remove_element(self, value):\n",
    "    # Remove the value specified from the tree, raising a ValueError\n",
    "    # if the value isn't found. When a replacement value is necessary,\n",
    "    # select the minimum value to the from the right as this element's\n",
    "    # replacement. Take note of when to move a node reference and when\n",
    "    # to replace the value in a node instead. It is not necessary to\n",
    "    # return the value (though it would reasonable to do so in some \n",
    "    # implementations). Your solution must be recursive. \n",
    "    # This will involve the introduction of additional private\n",
    "    # methods to support the recursion control variable.\n",
    "    # TODO replace pass with your implementation\n",
    "        self.__root = self.__rrem(value,self.__root)\n",
    "        if self.__root == None:\n",
    "            self.__height = 0\n",
    "        else:\n",
    "            self.__height = self.__root.height\n",
    "\n",
    "    def __rin_order(self,node):\n",
    "        if (node.left_child == None) and (node.right_child == None):\n",
    "            return str(node.value)\n",
    "        elif node.left_child == None:\n",
    "            right = self.__rin_order(node.right_child)\n",
    "            return str(node.value) + ', ' + right\n",
    "        elif node.right_child == None:\n",
    "            left = self.__rin_order(node.left_child)\n",
    "            return left + ', ' + str(node.value)\n",
    "        else:\n",
    "            left = self.__rin_order(node.left_child)\n",
    "            right = self.__rin_order(node.right_child)\n",
    "            return left + ', ' + str(node.value) + ', ' + right\n",
    "\n",
    "    def in_order(self):\n",
    "    # Construct and return a string representing the in-order\n",
    "    # traversal of the tree. Empty trees should be printed as [ ].\n",
    "    # Trees with one value should be printed as [ 4 ]. Trees with more\n",
    "    # than one value should be printed as [ 4, 7 ]. Note the spacing.\n",
    "    # Your solution must be recursive. This will involve the introduction\n",
    "    # of additional private methods to support the recursion control \n",
    "    # variable.\n",
    "    # TODO replace pass with your implementation\n",
    "    # left node right\n",
    "        return '[ ' + self.__rin_order(self.__root) + ' ]'\n",
    "\n",
    "    def __rpre_order(self,node):\n",
    "        if (node.left_child == None) and (node.right_child == None):\n",
    "            return str(node.value)\n",
    "        elif node.left_child == None:\n",
    "            right = self.__rpre_order(node.right_child)\n",
    "            return str(node.value) + ', ' + right\n",
    "        elif node.right_child == None:\n",
    "            left = self.__rpre_order(node.left_child)\n",
    "            return str(node.value) + ', ' + left\n",
    "        else:\n",
    "            left = self.__rpre_order(node.left_child)\n",
    "            right = self.__rpre_order(node.right_child)\n",
    "            return str(node.value) + ', ' + left + ', ' + right\n",
    "\n",
    "    def pre_order(self):\n",
    "    # Construct and return a string representing the pre-order\n",
    "    # traversal of the tree. Empty trees should be printed as [ ].\n",
    "    # Trees with one value should be printed in as [ 4 ]. Trees with\n",
    "    # more than one value should be printed as [ 4, 7 ]. Note the spacing.\n",
    "    # Your solution must be recursive. This will involve the introduction\n",
    "    # of additional private methods to support the recursion control \n",
    "    # variable.\n",
    "    # TODO replace pass with your implementation\n",
    "    # node left right\n",
    "        return '[ ' + self.__rpre_order(self.__root) + ' ]'\n",
    "\n",
    "    def __rpost_order(self,node):\n",
    "        if (node.left_child == None) and (node.right_child == None):\n",
    "            return str(node.value)\n",
    "        elif node.left_child == None:\n",
    "            right = self.__rpost_order(node.right_child)\n",
    "            return right + ', ' + str(node.value)\n",
    "        elif node.right_child == None:\n",
    "            left = self.__rpost_order(node.left_child)\n",
    "            return left + ', ' + str(node.value)\n",
    "        else:\n",
    "            left = self.__rpost_order(node.left_child)\n",
    "            right = self.__rpost_order(node.right_child)\n",
    "            return left + ', ' + right + ', ' + str(node.value)\n",
    "\n",
    "    def post_order(self):\n",
    "    # Construct an return a string representing the post-order\n",
    "    # traversal of the tree. Empty trees should be printed as [ ].\n",
    "    # Trees with one value should be printed in as [ 4 ]. Trees with\n",
    "    # more than one value should be printed as [ 4, 7 ]. Note the spacing.\n",
    "    # Your solution must be recursive. This will involve the introduction\n",
    "    # of additional private methods to support the recursion control \n",
    "    # variable.\n",
    "    # TODO replace pass with your implementation\n",
    "    # left right node\n",
    "        return '[ ' + self.__rpost_order(self.__root) + ' ]'\n",
    "\n",
    "    def get_height(self):\n",
    "    # return an integer that represents the height of the tree.\n",
    "    # assume that an empty tree has height 0 and a tree with one\n",
    "    # node has height 1. This method must operate in constant time.\n",
    "    # TODO replace pass with your implementation\n",
    "        return self.__height\n",
    "\n",
    "    def __str__(self):\n",
    "        return self.in_order()\n",
    "\n",
    "if __name__ == '__main__':\n",
    "    pass #unit tests make the main section unnecessary.\n",
    "\n"
   ]
  },
  {
   "cell_type": "code",
   "execution_count": 311,
   "metadata": {},
   "outputs": [],
   "source": [
    "tree = Binary_Search_Tree()"
   ]
  },
  {
   "cell_type": "code",
   "execution_count": 312,
   "metadata": {},
   "outputs": [],
   "source": [
    "tree.insert_element(8)"
   ]
  },
  {
   "cell_type": "code",
   "execution_count": 313,
   "metadata": {},
   "outputs": [
    {
     "name": "stdout",
     "output_type": "stream",
     "text": [
      "[ 8 ]\n"
     ]
    }
   ],
   "source": [
    "print(tree)"
   ]
  },
  {
   "cell_type": "code",
   "execution_count": 314,
   "metadata": {},
   "outputs": [],
   "source": [
    "tree.insert_element(7)"
   ]
  },
  {
   "cell_type": "code",
   "execution_count": 315,
   "metadata": {},
   "outputs": [
    {
     "data": {
      "text/plain": [
       "'[ 7, 8 ]'"
      ]
     },
     "execution_count": 315,
     "metadata": {},
     "output_type": "execute_result"
    }
   ],
   "source": [
    "str(tree)"
   ]
  },
  {
   "cell_type": "code",
   "execution_count": 316,
   "metadata": {},
   "outputs": [],
   "source": [
    "tree.insert_element(9)"
   ]
  },
  {
   "cell_type": "code",
   "execution_count": 317,
   "metadata": {},
   "outputs": [
    {
     "data": {
      "text/plain": [
       "'[ 7, 8, 9 ]'"
      ]
     },
     "execution_count": 317,
     "metadata": {},
     "output_type": "execute_result"
    }
   ],
   "source": [
    "str(tree)"
   ]
  },
  {
   "cell_type": "code",
   "execution_count": 318,
   "metadata": {},
   "outputs": [
    {
     "data": {
      "text/plain": [
       "2"
      ]
     },
     "execution_count": 318,
     "metadata": {},
     "output_type": "execute_result"
    }
   ],
   "source": [
    "tree.get_height()"
   ]
  },
  {
   "cell_type": "code",
   "execution_count": 319,
   "metadata": {},
   "outputs": [
    {
     "data": {
      "text/plain": [
       "'[ 7, 9, 8 ]'"
      ]
     },
     "execution_count": 319,
     "metadata": {},
     "output_type": "execute_result"
    }
   ],
   "source": [
    "tree.post_order()"
   ]
  },
  {
   "cell_type": "code",
   "execution_count": 320,
   "metadata": {},
   "outputs": [
    {
     "data": {
      "text/plain": [
       "'[ 8, 7, 9 ]'"
      ]
     },
     "execution_count": 320,
     "metadata": {},
     "output_type": "execute_result"
    }
   ],
   "source": [
    "tree.pre_order()"
   ]
  },
  {
   "cell_type": "code",
   "execution_count": 321,
   "metadata": {},
   "outputs": [
    {
     "data": {
      "text/plain": [
       "'[ 7, 8, 9 ]'"
      ]
     },
     "execution_count": 321,
     "metadata": {},
     "output_type": "execute_result"
    }
   ],
   "source": [
    "tree.in_order()"
   ]
  },
  {
   "cell_type": "code",
   "execution_count": 322,
   "metadata": {},
   "outputs": [
    {
     "data": {
      "text/plain": [
       "2"
      ]
     },
     "execution_count": 322,
     "metadata": {},
     "output_type": "execute_result"
    }
   ],
   "source": [
    "tree.remove_element(7)\n",
    "tree.get_height()"
   ]
  },
  {
   "cell_type": "code",
   "execution_count": 323,
   "metadata": {},
   "outputs": [
    {
     "data": {
      "text/plain": [
       "'[ 8, 9 ]'"
      ]
     },
     "execution_count": 323,
     "metadata": {},
     "output_type": "execute_result"
    }
   ],
   "source": [
    "str(tree)"
   ]
  },
  {
   "cell_type": "code",
   "execution_count": 324,
   "metadata": {},
   "outputs": [
    {
     "data": {
      "text/plain": [
       "'[ 9, 8 ]'"
      ]
     },
     "execution_count": 324,
     "metadata": {},
     "output_type": "execute_result"
    }
   ],
   "source": [
    "tree.post_order()"
   ]
  },
  {
   "cell_type": "code",
   "execution_count": 325,
   "metadata": {},
   "outputs": [
    {
     "data": {
      "text/plain": [
       "'[ 8, 9 ]'"
      ]
     },
     "execution_count": 325,
     "metadata": {},
     "output_type": "execute_result"
    }
   ],
   "source": [
    "tree.pre_order()"
   ]
  },
  {
   "cell_type": "code",
   "execution_count": 326,
   "metadata": {},
   "outputs": [
    {
     "data": {
      "text/plain": [
       "'[ 8, 9 ]'"
      ]
     },
     "execution_count": 326,
     "metadata": {},
     "output_type": "execute_result"
    }
   ],
   "source": [
    "tree.in_order()"
   ]
  },
  {
   "cell_type": "code",
   "execution_count": 327,
   "metadata": {},
   "outputs": [],
   "source": [
    "tree.remove_element(8)"
   ]
  },
  {
   "cell_type": "code",
   "execution_count": 328,
   "metadata": {},
   "outputs": [
    {
     "data": {
      "text/plain": [
       "'[ 9 ]'"
      ]
     },
     "execution_count": 328,
     "metadata": {},
     "output_type": "execute_result"
    }
   ],
   "source": [
    "str(tree)"
   ]
  },
  {
   "cell_type": "code",
   "execution_count": 329,
   "metadata": {},
   "outputs": [
    {
     "data": {
      "text/plain": [
       "'[ 9 ]'"
      ]
     },
     "execution_count": 329,
     "metadata": {},
     "output_type": "execute_result"
    }
   ],
   "source": [
    "tree.pre_order()"
   ]
  },
  {
   "cell_type": "code",
   "execution_count": 330,
   "metadata": {},
   "outputs": [
    {
     "data": {
      "text/plain": [
       "6"
      ]
     },
     "execution_count": 330,
     "metadata": {},
     "output_type": "execute_result"
    }
   ],
   "source": [
    "tree.insert_element(10)\n",
    "tree.insert_element(11)\n",
    "tree.insert_element(14)\n",
    "tree.insert_element(12)\n",
    "tree.insert_element(13)\n",
    "tree.insert_element(7)\n",
    "tree.insert_element(6)\n",
    "tree.insert_element(8)\n",
    "tree.get_height()"
   ]
  },
  {
   "cell_type": "code",
   "execution_count": 331,
   "metadata": {},
   "outputs": [
    {
     "data": {
      "text/plain": [
       "'[ 6, 7, 8, 9, 10, 11, 12, 13, 14 ]'"
      ]
     },
     "execution_count": 331,
     "metadata": {},
     "output_type": "execute_result"
    }
   ],
   "source": [
    "str(tree)"
   ]
  },
  {
   "cell_type": "code",
   "execution_count": 332,
   "metadata": {},
   "outputs": [
    {
     "data": {
      "text/plain": [
       "'[ 9, 7, 6, 8, 10, 11, 14, 12, 13 ]'"
      ]
     },
     "execution_count": 332,
     "metadata": {},
     "output_type": "execute_result"
    }
   ],
   "source": [
    "tree.pre_order()"
   ]
  },
  {
   "cell_type": "code",
   "execution_count": 333,
   "metadata": {},
   "outputs": [
    {
     "data": {
      "text/plain": [
       "'[ 6, 8, 7, 13, 12, 14, 11, 10, 9 ]'"
      ]
     },
     "execution_count": 333,
     "metadata": {},
     "output_type": "execute_result"
    }
   ],
   "source": [
    "tree.post_order()"
   ]
  },
  {
   "cell_type": "code",
   "execution_count": 334,
   "metadata": {},
   "outputs": [],
   "source": [
    "tree.remove_element(13)"
   ]
  },
  {
   "cell_type": "code",
   "execution_count": 335,
   "metadata": {},
   "outputs": [
    {
     "data": {
      "text/plain": [
       "'[ 6, 7, 8, 9, 10, 11, 12, 14 ]'"
      ]
     },
     "execution_count": 335,
     "metadata": {},
     "output_type": "execute_result"
    }
   ],
   "source": [
    "str(tree)"
   ]
  },
  {
   "cell_type": "code",
   "execution_count": 336,
   "metadata": {},
   "outputs": [],
   "source": [
    "tree.insert_element(13)"
   ]
  },
  {
   "cell_type": "code",
   "execution_count": 337,
   "metadata": {},
   "outputs": [],
   "source": [
    "tree.remove_element(12)"
   ]
  },
  {
   "cell_type": "code",
   "execution_count": 338,
   "metadata": {},
   "outputs": [
    {
     "data": {
      "text/plain": [
       "'[ 6, 7, 8, 9, 10, 11, 13, 14 ]'"
      ]
     },
     "execution_count": 338,
     "metadata": {},
     "output_type": "execute_result"
    }
   ],
   "source": [
    "str(tree)"
   ]
  },
  {
   "cell_type": "code",
   "execution_count": 339,
   "metadata": {},
   "outputs": [],
   "source": [
    "tree.remove_element(13)"
   ]
  },
  {
   "cell_type": "code",
   "execution_count": 340,
   "metadata": {},
   "outputs": [
    {
     "data": {
      "text/plain": [
       "'[ 6, 7, 8, 9, 10, 11, 14 ]'"
      ]
     },
     "execution_count": 340,
     "metadata": {},
     "output_type": "execute_result"
    }
   ],
   "source": [
    "str(tree)"
   ]
  },
  {
   "cell_type": "code",
   "execution_count": 341,
   "metadata": {},
   "outputs": [],
   "source": [
    "tree.remove_element(7)"
   ]
  },
  {
   "cell_type": "code",
   "execution_count": 342,
   "metadata": {},
   "outputs": [
    {
     "data": {
      "text/plain": [
       "'[ 6, 8, 9, 10, 11, 14 ]'"
      ]
     },
     "execution_count": 342,
     "metadata": {},
     "output_type": "execute_result"
    }
   ],
   "source": [
    "str(tree)"
   ]
  },
  {
   "cell_type": "code",
   "execution_count": 343,
   "metadata": {},
   "outputs": [],
   "source": [
    "tree.remove_element(11)"
   ]
  },
  {
   "cell_type": "code",
   "execution_count": 344,
   "metadata": {},
   "outputs": [],
   "source": [
    "tree.remove_element(14)\n",
    "tree.remove_element(9)\n",
    "tree.remove_element(8)"
   ]
  },
  {
   "cell_type": "code",
   "execution_count": 345,
   "metadata": {},
   "outputs": [
    {
     "data": {
      "text/plain": [
       "1"
      ]
     },
     "execution_count": 345,
     "metadata": {},
     "output_type": "execute_result"
    }
   ],
   "source": [
    "tree.remove_element(10)\n",
    "tree.get_height()"
   ]
  },
  {
   "cell_type": "code",
   "execution_count": 346,
   "metadata": {},
   "outputs": [
    {
     "data": {
      "text/plain": [
       "'[ 6 ]'"
      ]
     },
     "execution_count": 346,
     "metadata": {},
     "output_type": "execute_result"
    }
   ],
   "source": [
    "str(tree)"
   ]
  },
  {
   "cell_type": "code",
   "execution_count": 347,
   "metadata": {},
   "outputs": [],
   "source": [
    "tree.remove_element(6)"
   ]
  },
  {
   "cell_type": "code",
   "execution_count": 299,
   "metadata": {},
   "outputs": [
    {
     "data": {
      "text/plain": [
       "0"
      ]
     },
     "execution_count": 299,
     "metadata": {},
     "output_type": "execute_result"
    }
   ],
   "source": [
    "tree.get_height()"
   ]
  },
  {
   "cell_type": "code",
   "execution_count": 352,
   "metadata": {},
   "outputs": [
    {
     "name": "stdout",
     "output_type": "stream",
     "text": [
      "Enter text string to be encoded: Phillip is from Ottawa\n"
     ]
    }
   ],
   "source": [
    "text = input('Enter text string to be encoded: ')\n",
    "text = text.lower()\n",
    "\n",
    "to_encode = {}\n",
    "for i in text:\n",
    "    if i in to_encode:\n",
    "        to_encode[i] += 1\n",
    "    else:\n",
    "        to_encode[i] = 1"
   ]
  },
  {
   "cell_type": "code",
   "execution_count": 353,
   "metadata": {},
   "outputs": [
    {
     "data": {
      "text/plain": [
       "{'p': 2,\n",
       " 'h': 1,\n",
       " 'i': 3,\n",
       " 'l': 2,\n",
       " ' ': 3,\n",
       " 's': 1,\n",
       " 'f': 1,\n",
       " 'r': 1,\n",
       " 'o': 2,\n",
       " 'm': 1,\n",
       " 't': 2,\n",
       " 'a': 2,\n",
       " 'w': 1}"
      ]
     },
     "execution_count": 353,
     "metadata": {},
     "output_type": "execute_result"
    }
   ],
   "source": [
    "to_encode"
   ]
  },
  {
   "cell_type": "code",
   "execution_count": 356,
   "metadata": {},
   "outputs": [],
   "source": [
    "values = []\n",
    "frequencies = []\n",
    "\n",
    "for i in to_encode:\n",
    "    values += i\n",
    "    frequencies = frequencies + [to_encode[i]]"
   ]
  },
  {
   "cell_type": "code",
   "execution_count": 357,
   "metadata": {},
   "outputs": [
    {
     "data": {
      "text/plain": [
       "['p', 'h', 'i', 'l', ' ', 's', 'f', 'r', 'o', 'm', 't', 'a', 'w']"
      ]
     },
     "execution_count": 357,
     "metadata": {},
     "output_type": "execute_result"
    }
   ],
   "source": [
    "values"
   ]
  },
  {
   "cell_type": "code",
   "execution_count": 358,
   "metadata": {},
   "outputs": [
    {
     "data": {
      "text/plain": [
       "[2, 1, 3, 2, 3, 1, 1, 1, 2, 1, 2, 2, 1]"
      ]
     },
     "execution_count": 358,
     "metadata": {},
     "output_type": "execute_result"
    }
   ],
   "source": [
    "frequencies"
   ]
  },
  {
   "cell_type": "code",
   "execution_count": 359,
   "metadata": {},
   "outputs": [],
   "source": [
    "to_return = []"
   ]
  },
  {
   "cell_type": "code",
   "execution_count": 360,
   "metadata": {},
   "outputs": [
    {
     "data": {
      "text/plain": [
       "[]"
      ]
     },
     "execution_count": 360,
     "metadata": {},
     "output_type": "execute_result"
    }
   ],
   "source": [
    "to_return"
   ]
  },
  {
   "cell_type": "code",
   "execution_count": 429,
   "metadata": {},
   "outputs": [],
   "source": [
    "class Binary_Search_Tree:\n",
    "    # TODO.I have provided the public method skeletons. You will need\n",
    "    # to add private methods to support the recursive algorithms\n",
    "    # discussed in class\n",
    "\n",
    "    class __BST_Node:\n",
    "        # TODO The Node class is private. You may add any attributes and\n",
    "        # methods you need. Recall that attributes in an inner class \n",
    "        # must be public to be reachable from the the methods.\n",
    "\n",
    "        def __init__(self, value):\n",
    "            self.value = value\n",
    "            # TODO complete Node initialization\n",
    "            self.height = 1\n",
    "            self.left_child = None\n",
    "            self.right_child = None\n",
    "\n",
    "    def __init__(self):\n",
    "        self.__root = None\n",
    "        # TODO complete initialization\n",
    "\n",
    "    def __set_height(self,node):\n",
    "        # case of no children always has a height of 1\n",
    "        if (node.left_child == None) and (node.right_child == None):\n",
    "            return 1\n",
    "        # if there is no left child, right's height + 1 must be used\n",
    "        elif node.left_child == None:\n",
    "            return node.right_child.height + 1\n",
    "        # if there is no right child, left's height + 1 must be used\n",
    "        elif node.right_child == None:\n",
    "            return node.left_child.height + 1\n",
    "        # either left child is taller or right child's height is greater than or equal to left child's height\n",
    "        else:\n",
    "            if node.left_child.height > node.right_child.height:\n",
    "                return node.left_child.height + 1\n",
    "            else:\n",
    "                return node.right_child.height + 1\n",
    "            \n",
    "    def __get_node_height(self,node):\n",
    "            if node == None:\n",
    "                return 0\n",
    "            else:\n",
    "                return node.height\n",
    "            \n",
    "    def __rotation(self,t,right):\n",
    "        # perform rotation on a right-leaning tree\n",
    "        if right:\n",
    "            new_t = t.right_child\n",
    "            floater = new_t.left_child\n",
    "            new_t.left_child = t\n",
    "            t.right_child = floater\n",
    "            return new_t\n",
    "        # perform rotation on a left-leaning tree\n",
    "        else:\n",
    "            new_t = t.left_child\n",
    "            floater = new_t.right_child\n",
    "            new_t.right_child = t\n",
    "            t.left_child = floater\n",
    "            return new_t\n",
    "\n",
    "    def __balance(self,t):\n",
    "        # set the current balance\n",
    "        balance = self.__get_node_height(t.right_child) - self.__get_node_height(t.left_child)\n",
    "        # if unbalanced, perform the necessary rotations\n",
    "        # then return the new root of the subtree\n",
    "        if balance == 2:\n",
    "            if self.__get_node_height(t.right_child.right_child) - self.__get_node_height(t.right_child.left_child) == 1:\n",
    "                return self.__rotation(t,True)\n",
    "            else:\n",
    "                t.right_child = self.__rotation(t.right_child,False)\n",
    "                return self.__rotation(t,True)\n",
    "        elif balance == -2:\n",
    "            if self.__get_node_height(t.left_child.right_child) - self.__get_node_height(t.left_child.left_child) == 1:\n",
    "                t.left_child = self.__rotation(t.left_child,True)\n",
    "                return self.__rotation(t,False)\n",
    "            else:\n",
    "                return self.__rotation(t,False)\n",
    "        # if balanced, return original root of the subtree\n",
    "        else:\n",
    "            return t\n",
    "        \n",
    "    #def __balance(self,t):\n",
    "        # set the current balance\n",
    "     #   balance = self.__get_node_height(t.right_child) - self.__get_node_height(t.left_child)\n",
    "        # if unbalanced, perform the necessary rotations\n",
    "        # then return the new root of the subtree\n",
    "      #  if balance == 2:\n",
    "       #     if self.__get_node_height(t.right_child.right_child) - self.__get_node_height(t.right_child.left_child) == 1:\n",
    "        #        return self.__rotation(t,True)\n",
    "         #   else:\n",
    "          #      return self.__rotation(t.right_child,False)\n",
    "           #     return self.__rotation(t,True)\n",
    "   #     elif balance == -2:\n",
    "    #        if self.__get_node_height(t.left_child.right_child) - self.__get_node_height(t.left_child.left_child) == 1:\n",
    "     #           return self.__rotation(t.left_child,True)\n",
    "      #          return self.__rotation(t,False)\n",
    "       #     else:\n",
    "        #        return self.__rotation(t,False)\n",
    "        # if balanced, return original root of the subtree\n",
    "        #else:\n",
    "         #   return t\n",
    "\n",
    "  # I was considering using this instead of the current __set_height method, but I decided not to\n",
    "  # as I was not sure what impact it would have on performance so feedback on this would be helpful\n",
    "  # despite it not being in my actual implementation\n",
    "  # def __set_height(self,node):\n",
    "  #   try:\n",
    "  #     left = node.left_child.height\n",
    "  #   except AttributeError:\n",
    "  #     left = 0\n",
    "  #   try:\n",
    "  #     right = node.right_child.height\n",
    "  #   except AttributeError:\n",
    "  #     right = 0\n",
    "  #   if left > right:\n",
    "  #     return left + 1\n",
    "  #   else:\n",
    "  #     return right + 1\n",
    "\n",
    "    def __rins(self,value,node):\n",
    "        # base case\n",
    "        if node == None:\n",
    "            new_node = Binary_Search_Tree.__BST_Node(value)\n",
    "            return new_node\n",
    "        # recursive case\n",
    "        else:\n",
    "            if node.value == value:\n",
    "                raise ValueError\n",
    "            elif node.value > value:\n",
    "                node.left_child = self.__rins(value,node.left_child)\n",
    "                node.height = self.__set_height(node)\n",
    "            else:\n",
    "                node.right_child = self.__rins(value,node.right_child)\n",
    "                node.height = self.__set_height(node)\n",
    "            return self.__balance(node)\n",
    "\n",
    "    def insert_element(self, value):\n",
    "        # Insert the value specified into the tree at the correct\n",
    "        # location based on \"less is left; greater is right\" binary\n",
    "        # search tree ordering. If the value is already contained in\n",
    "        # the tree, raise a ValueError. Your solution must be recursive.\n",
    "        # This will involve the introduction of additional private\n",
    "        # methods to support the recursion control variable.\n",
    "        # TODO replace pass with your implementation\n",
    "        self.__root = self.__rins(value,self.__root)\n",
    "\n",
    "    def __rrem(self,value,node):\n",
    "        # if the node does not exist in the tree\n",
    "        if node == None:\n",
    "            raise ValueError\n",
    "        # base case\n",
    "        if node.value == value:\n",
    "            if node.left_child == None:\n",
    "                return node.right_child\n",
    "            elif node.right_child == None:\n",
    "                return node.left_child\n",
    "            else:\n",
    "                cur = node.right_child\n",
    "                while cur.left_child != None:\n",
    "                    cur = cur.left_child\n",
    "                node.value = cur.value\n",
    "                node.right_child = self.__rrem(cur.value,node.right_child)\n",
    "                return node\n",
    "        # recursive cases\n",
    "        elif node.value > value:\n",
    "            node.left_child = self.__rrem(value,node.left_child)\n",
    "            node.height = self.__set_height(node)\n",
    "        else:\n",
    "            node.right_child = self.__rrem(value,node.right_child)\n",
    "            node.height = self.__set_height(node)\n",
    "        return self.__balance(node)\n",
    "\n",
    "    def remove_element(self, value):\n",
    "        # Remove the value specified from the tree, raising a ValueError\n",
    "        # if the value isn't found. When a replacement value is necessary,\n",
    "        # select the minimum value to the from the right as this element's\n",
    "        # replacement. Take note of when to move a node reference and when\n",
    "        # to replace the value in a node instead. It is not necessary to\n",
    "        # return the value (though it would reasonable to do so in some \n",
    "        # implementations). Your solution must be recursive. \n",
    "        # This will involve the introduction of additional private\n",
    "        # methods to support the recursion control variable.\n",
    "        # TODO replace pass with your implementation\n",
    "        self.__root = self.__rrem(value,self.__root)\n",
    "\n",
    "    def __rin_order(self,node):\n",
    "        # performs string concatenation for each node\n",
    "        # conditionals check if one or both children are missing and\n",
    "        # returns the values that are present, with the parent's value\n",
    "        # being in between left and right\n",
    "        if (node.left_child == None) and (node.right_child == None):\n",
    "            return str(node.value)\n",
    "        elif node.left_child == None:\n",
    "            right = self.__rin_order(node.right_child)\n",
    "            return str(node.value) + ', ' + right\n",
    "        elif node.right_child == None:\n",
    "            left = self.__rin_order(node.left_child)\n",
    "            return left + ', ' + str(node.value)\n",
    "        else:\n",
    "            left = self.__rin_order(node.left_child)\n",
    "            right = self.__rin_order(node.right_child)\n",
    "            return left + ', ' + str(node.value) + ', ' + right\n",
    "\n",
    "    def in_order(self):\n",
    "        # Construct and return a string representing the in-order\n",
    "        # traversal of the tree. Empty trees should be printed as [ ].\n",
    "        # Trees with one value should be printed as [ 4 ]. Trees with more\n",
    "        # than one value should be printed as [ 4, 7 ]. Note the spacing.\n",
    "        # Your solution must be recursive. This will involve the introduction\n",
    "        # of additional private methods to support the recursion control \n",
    "        # variable.\n",
    "        # TODO replace pass with your implementation\n",
    "        # left node right\n",
    "        if self.get_height() == 0:\n",
    "            return '[ ]'\n",
    "        else:\n",
    "            return '[ ' + self.__rin_order(self.__root) + ' ]'\n",
    "\n",
    "    def __rto_list(self,return_list,node):\n",
    "        if (node.left_child == None) and (node.right_child == None):\n",
    "            return_list += str(node.value)\n",
    "        elif node.left_child == None:\n",
    "            return_list += str(node.value)\n",
    "            self.__rto_list(return_list,node.right_child)\n",
    "        elif node.right_child == None:\n",
    "            self.__rto_list(return_list,node.left_child)\n",
    "            return_list += str(node.value)\n",
    "        else:\n",
    "            self.__rto_list(return_list,node.left_child)\n",
    "            return_list += str(node.value) \n",
    "            self.__rto_list(return_list,node.right_child)\n",
    "\n",
    "    def to_list(self):\n",
    "        to_return = []\n",
    "        self.__rto_list(to_return,self.__root)\n",
    "        return to_return\n",
    "\n",
    "\n",
    "    def __rpre_order(self,node):\n",
    "        # performs string concatenation for each node\n",
    "        # conditionals check if one or both children are missing and\n",
    "        # returns the values that are present, with the parent's value first\n",
    "        if (node.left_child == None) and (node.right_child == None):\n",
    "            return str(node.value)\n",
    "        elif node.left_child == None:\n",
    "            right = self.__rpre_order(node.right_child)\n",
    "            return str(node.value) + ', ' + right\n",
    "        elif node.right_child == None:\n",
    "            left = self.__rpre_order(node.left_child)\n",
    "            return str(node.value) + ', ' + left\n",
    "        else:\n",
    "            left = self.__rpre_order(node.left_child)\n",
    "            right = self.__rpre_order(node.right_child)\n",
    "            return str(node.value) + ', ' + left + ', ' + right\n",
    "\n",
    "    def pre_order(self):\n",
    "        # Construct and return a string representing the pre-order\n",
    "        # traversal of the tree. Empty trees should be printed as [ ].\n",
    "        # Trees with one value should be printed in as [ 4 ]. Trees with\n",
    "        # more than one value should be printed as [ 4, 7 ]. Note the spacing.\n",
    "        # Your solution must be recursive. This will involve the introduction\n",
    "        # of additional private methods to support the recursion control \n",
    "        # variable.\n",
    "        # TODO replace pass with your implementation\n",
    "        # node left right\n",
    "        if self.get_height() == 0:\n",
    "            return '[ ]'\n",
    "        else:\n",
    "            return '[ ' + self.__rpre_order(self.__root) + ' ]'\n",
    "\n",
    "    def __rpost_order(self,node):\n",
    "        # performs string concatenation for each node\n",
    "        # conditionals check if one or both children are missing and\n",
    "        # returns the values that are present, with the parent's value last\n",
    "        if (node.left_child == None) and (node.right_child == None):\n",
    "            return str(node.value)\n",
    "        elif node.left_child == None:\n",
    "            right = self.__rpost_order(node.right_child)\n",
    "            return right + ', ' + str(node.value)\n",
    "        elif node.right_child == None:\n",
    "            left = self.__rpost_order(node.left_child)\n",
    "            return left + ', ' + str(node.value)\n",
    "        else:\n",
    "            left = self.__rpost_order(node.left_child)\n",
    "            right = self.__rpost_order(node.right_child)\n",
    "            return left + ', ' + right + ', ' + str(node.value)\n",
    "\n",
    "    def post_order(self):\n",
    "        # Construct an return a string representing the post-order\n",
    "        # traversal of the tree. Empty trees should be printed as [ ].\n",
    "        # Trees with one value should be printed in as [ 4 ]. Trees with\n",
    "        # more than one value should be printed as [ 4, 7 ]. Note the spacing.\n",
    "        # Your solution must be recursive. This will involve the introduction\n",
    "        # of additional private methods to support the recursion control \n",
    "        # variable.\n",
    "        # TODO replace pass with your implementation\n",
    "        # left right node\n",
    "        if self.get_height() == 0:\n",
    "            return '[ ]'\n",
    "        else:\n",
    "            return '[ ' + self.__rpost_order(self.__root) + ' ]'\n",
    "\n",
    "    def get_height(self):\n",
    "        # return an integer that represents the height of the tree.\n",
    "        # assume that an empty tree has height 0 and a tree with one\n",
    "        # node has height 1. This method must operate in constant time.\n",
    "        # TODO replace pass with your implementation\n",
    "        if self.__root == None:\n",
    "            height = 0\n",
    "        else:\n",
    "            height = self.__root.height\n",
    "        return height\n",
    "\n",
    "  # Similar to before, I was considering using this instead of my current get_height method\n",
    "  # def get_height(self):\n",
    "  #   # return an integer that represents the height of the tree.\n",
    "  #   # assume that an empty tree has height 0 and a tree with one\n",
    "  #   # node has height 1. This method must operate in constant time.\n",
    "  #   # TODO replace pass with your implementation\n",
    "  #   try:\n",
    "  #     height = self.__root.height\n",
    "  #   except AttributeError:\n",
    "  #     height = 1\n",
    "  #   return height\n",
    "\n",
    "    def __str__(self):\n",
    "        return self.in_order()\n",
    "\n",
    "if __name__ == '__main__':\n",
    "    pass #unit tests make the main section unnecessary.\n",
    "\n"
   ]
  },
  {
   "cell_type": "code",
   "execution_count": 430,
   "metadata": {},
   "outputs": [],
   "source": [
    "t = Binary_Search_Tree()"
   ]
  },
  {
   "cell_type": "code",
   "execution_count": 431,
   "metadata": {},
   "outputs": [],
   "source": [
    "t.insert_element(5)"
   ]
  },
  {
   "cell_type": "code",
   "execution_count": 432,
   "metadata": {},
   "outputs": [],
   "source": [
    "t.insert_element(6)"
   ]
  },
  {
   "cell_type": "code",
   "execution_count": 433,
   "metadata": {},
   "outputs": [
    {
     "data": {
      "text/plain": [
       "['5', '6']"
      ]
     },
     "execution_count": 433,
     "metadata": {},
     "output_type": "execute_result"
    }
   ],
   "source": [
    "t.to_list()"
   ]
  },
  {
   "cell_type": "code",
   "execution_count": 434,
   "metadata": {},
   "outputs": [],
   "source": [
    "t.insert_element(7)"
   ]
  },
  {
   "cell_type": "code",
   "execution_count": 435,
   "metadata": {},
   "outputs": [
    {
     "data": {
      "text/plain": [
       "['5', '6', '7']"
      ]
     },
     "execution_count": 435,
     "metadata": {},
     "output_type": "execute_result"
    }
   ],
   "source": [
    "t.to_list()"
   ]
  },
  {
   "cell_type": "code",
   "execution_count": 436,
   "metadata": {},
   "outputs": [],
   "source": [
    "t.insert_element(9)"
   ]
  },
  {
   "cell_type": "code",
   "execution_count": 437,
   "metadata": {},
   "outputs": [],
   "source": [
    "t.insert_element(8)"
   ]
  },
  {
   "cell_type": "code",
   "execution_count": 438,
   "metadata": {},
   "outputs": [
    {
     "data": {
      "text/plain": [
       "['5', '6', '7', '8', '9']"
      ]
     },
     "execution_count": 438,
     "metadata": {},
     "output_type": "execute_result"
    }
   ],
   "source": [
    "t.to_list()"
   ]
  },
  {
   "cell_type": "code",
   "execution_count": null,
   "metadata": {},
   "outputs": [],
   "source": [
    "class Minimum_Heap:\n",
    "\n",
    "    class Huffman_Tree:\n",
    "        \n",
    "        class __Huffman_Node:\n",
    "            \n",
    "            def __init__(self,value,freq):\n",
    "                self.value = value\n",
    "                self.frequency = freq\n",
    "                self.left_child = None\n",
    "                self.right_child = None\n",
    "\n",
    "        def __init__(self):\n",
    "            self.root = Minimum_Heap.Huffman_Tree.__Huffman_Node(None,0)\n",
    "            \n",
    "        def insert_children(self,left_node,right_node):\n",
    "            self.root.left_child = left_node\n",
    "            self.root.right_child = right_node\n",
    "            \n",
    "        def set_root(self,value,freq):\n",
    "            self.root.value = value\n",
    "            self.root.frequency = freq\n",
    "            \n",
    "    def __init__(self):\n",
    "        self.__array = []\n",
    "\n",
    "    def __order_bottom(self,index):\n",
    "        if index == 0:\n",
    "            return\n",
    "        if index%2 == 0:\n",
    "            if self.__array[index].root.frequency < self.__array[int((index-2)/2)].root.frequency:\n",
    "                temp = self.__array[index]\n",
    "                self.__array[index] = self.__array[int((index-2)/2)]\n",
    "                self.__array[int((index-2)/2)] = temp\n",
    "                self.__order_bottom(int((index-2)/2))\n",
    "        elif index%2 == 1:\n",
    "            if self.__array[index].root.frequency < self.__array[int((index-1)/2)].root.frequency:\n",
    "                temp = self.__array[index]\n",
    "                self.__array[index] = self.__array[int((index-1)/2)]\n",
    "                self.__array[int((index-1)/2)] = temp\n",
    "                self.__order_bottom(int((index-1)/2))\n",
    "                \n",
    "    def __order_top(self,index):\n",
    "        if index > (len(self.__array)/2)-1:\n",
    "            return\n",
    "        if len(self) == 2:\n",
    "            to_add = 1\n",
    "        else:\n",
    "            if self.__array[(index*2)+1].root.frequency > self.__array[(index*2)+2].root.frequency:\n",
    "                to_add = 2\n",
    "            else:\n",
    "                to_add = 1\n",
    "        if self.__array[index].root.frequency > self.__array[((index*2)+to_add)].root.frequency:\n",
    "            temp = self.__array[index]\n",
    "            self.__array[index] = self.__array[(index*2)+to_add]\n",
    "            self.__array[(index*2)+to_add] = temp\n",
    "            self.__order_top((index*2)+to_add)\n",
    "\n",
    "    def insert_element(self,tree):\n",
    "        self.__array += [tree]\n",
    "        self.__order_bottom(len(self.__array)-1)\n",
    "        \n",
    "    def remove_element(self):\n",
    "        to_return = self.__array[0]\n",
    "        self.__array[0] = self.__array[len(self.__array)-1]\n",
    "        self.__array = self.__array[:-1]\n",
    "        self.__order_top(0)\n",
    "        return to_return\n",
    "        \n",
    "    def __len__(self):\n",
    "        return len(self.__array)\n",
    "    \n",
    "    def __rstr(self,array,node):\n",
    "        if (node.left_child == None) and (node.right_child == None):\n",
    "            array += [node.value]\n",
    "        elif node.left_child == None:\n",
    "            self.__rstr(array,node.right_child)\n",
    "            array += [node.value]\n",
    "        elif node.right_child == None:\n",
    "            self.__rstr(array,node.left_child)\n",
    "            array += [node.value]\n",
    "        else:\n",
    "            self.__rstr(array,node.left_child)\n",
    "            self.__rstr(array,node.right_child)\n",
    "            array += [node.value]\n",
    "        \n",
    "    def __str__(self):\n",
    "        to_return = []\n",
    "        for i in self.__array:\n",
    "            if i.root.value == None:\n",
    "                return []\n",
    "            else:\n",
    "                array = []\n",
    "                self.__rstr(array,i.root)\n",
    "                to_return += [array]\n",
    "        return str(to_return)\n",
    "    \n",
    "    def __rencode(self,string,node,dictionary):\n",
    "        if (node.left_child == None) and (node.right_child == None):\n",
    "            dictionary[node.value] == string\n",
    "            return\n",
    "        elif node.left_child == None:\n",
    "            self.__rencode(string + '1',node.right_child)\n",
    "        elif node.right_child == None:\n",
    "            self.__rencode(string + '0',node.left_child)\n",
    "        else:\n",
    "            self.__rencode(string + '0',node.left_child,dictionary)\n",
    "            self.__rencode(string + '1',node.right_child,dictionary)\n",
    "        \n",
    "    def encode(self):\n",
    "        dictionary = dict()\n",
    "        string = ''\n",
    "        self.__rencode(string,self.__array[0].root,dictionary)\n",
    "        return str(dictionary)\n",
    "    \n",
    "    \n",
    "if __name__ == '__main__':\n",
    "    text = input('Enter text string to be encoded: ')\n",
    "    text.lower()\n",
    "    \n",
    "    to_encode = {}\n",
    "    for i in text:\n",
    "        if i in to_encode:\n",
    "            to_encode[i] += 1\n",
    "        else:\n",
    "            to_encode[i] = 1\n",
    "            \n",
    "    heap = Minimum_Heap()\n",
    "    \n",
    "    for i in to_encode:\n",
    "        huffman = heap.Huffman_Tree()\n",
    "        huffman.set_root(i,to_encode[i])\n",
    "        heap.insert_element(huffman)\n",
    "        \n",
    "    print(heap)\n",
    "    \n",
    "    while len(heap) > 1:\n",
    "        first = heap.remove_element()\n",
    "        second = heap.remove_element()\n",
    "        total_freq = first.root.frequency + second.root.frequency\n",
    "        huffman = Minimum_Heap.Huffman_Tree()\n",
    "        huffman.set_root(None,total_freq)\n",
    "        huffman.insert_children(first.root,second.root)\n",
    "        heap.insert_element(huffman)\n",
    "        \n",
    "    heap.encode()\n",
    "        \n",
    "    \n",
    "    "
   ]
  },
  {
   "cell_type": "code",
   "execution_count": 517,
   "metadata": {},
   "outputs": [],
   "source": [
    "h = Huffman_Tree()"
   ]
  },
  {
   "cell_type": "code",
   "execution_count": 518,
   "metadata": {},
   "outputs": [],
   "source": [
    "h.insert_element('a',3)"
   ]
  },
  {
   "cell_type": "code",
   "execution_count": 519,
   "metadata": {},
   "outputs": [
    {
     "name": "stdout",
     "output_type": "stream",
     "text": [
      "[['a', 3]]\n"
     ]
    }
   ],
   "source": [
    "print(h)"
   ]
  },
  {
   "cell_type": "code",
   "execution_count": 520,
   "metadata": {},
   "outputs": [],
   "source": [
    "h.insert_element('h',4)"
   ]
  },
  {
   "cell_type": "code",
   "execution_count": 521,
   "metadata": {},
   "outputs": [
    {
     "name": "stdout",
     "output_type": "stream",
     "text": [
      "[['a', 3], ['h', 4]]\n"
     ]
    }
   ],
   "source": [
    "print(h)"
   ]
  },
  {
   "cell_type": "code",
   "execution_count": 522,
   "metadata": {},
   "outputs": [],
   "source": [
    "h.insert_element('b',2)"
   ]
  },
  {
   "cell_type": "code",
   "execution_count": 523,
   "metadata": {},
   "outputs": [
    {
     "name": "stdout",
     "output_type": "stream",
     "text": [
      "[['b', 2], ['h', 4], ['a', 3]]\n"
     ]
    }
   ],
   "source": [
    "print(h)"
   ]
  },
  {
   "cell_type": "code",
   "execution_count": 524,
   "metadata": {},
   "outputs": [
    {
     "data": {
      "text/plain": [
       "[1, 2, 3, 4]"
      ]
     },
     "execution_count": 524,
     "metadata": {},
     "output_type": "execute_result"
    }
   ],
   "source": [
    "listx = [1,2,3,4,5]\n",
    "listx = listx[:-1]\n",
    "listx"
   ]
  },
  {
   "cell_type": "code",
   "execution_count": null,
   "metadata": {},
   "outputs": [],
   "source": []
  }
 ],
 "metadata": {
  "kernelspec": {
   "display_name": "Python 3",
   "language": "python",
   "name": "python3"
  },
  "language_info": {
   "codemirror_mode": {
    "name": "ipython",
    "version": 3
   },
   "file_extension": ".py",
   "mimetype": "text/x-python",
   "name": "python",
   "nbconvert_exporter": "python",
   "pygments_lexer": "ipython3",
   "version": "3.7.6"
  }
 },
 "nbformat": 4,
 "nbformat_minor": 4
}
